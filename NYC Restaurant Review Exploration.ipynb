{
 "cells": [
  {
   "cell_type": "markdown",
   "metadata": {},
   "source": [
    "NYC Restaurant Review Exploration"
   ]
  },
  {
   "cell_type": "code",
   "execution_count": 1,
   "metadata": {},
   "outputs": [
    {
     "name": "stdout",
     "output_type": "stream",
     "text": [
      "[Stage 2:=======================>                                   (2 + 3) / 5]"
     ]
    },
    {
     "data": {
      "text/plain": [
       "restaurantDF = [CAMIS: int, DBA: string ... 16 more fields]\n"
      ]
     },
     "metadata": {},
     "output_type": "display_data"
    },
    {
     "data": {
      "text/plain": [
       "[CAMIS: int, DBA: string ... 16 more fields]"
      ]
     },
     "execution_count": 1,
     "metadata": {},
     "output_type": "execute_result"
    }
   ],
   "source": [
    "val restaurantDF = spark\n",
    ".read\n",
    ".option(\"inferschema\",\"true\")\n",
    ".option(\"header\",\"true\")\n",
    ".csv(\"/home/jose/csvFiles/NYCRestaurantInspectionResults.csv\")"
   ]
  },
  {
   "cell_type": "code",
   "execution_count": 2,
   "metadata": {},
   "outputs": [
    {
     "name": "stdout",
     "output_type": "stream",
     "text": [
      "root\n",
      " |-- CAMIS: integer (nullable = true)\n",
      " |-- DBA: string (nullable = true)\n",
      " |-- BORO: string (nullable = true)\n",
      " |-- BUILDING: string (nullable = true)\n",
      " |-- STREET: string (nullable = true)\n",
      " |-- ZIPCODE: string (nullable = true)\n",
      " |-- PHONE: string (nullable = true)\n",
      " |-- CUISINE DESCRIPTION: string (nullable = true)\n",
      " |-- INSPECTION DATE: string (nullable = true)\n",
      " |-- ACTION: string (nullable = true)\n",
      " |-- VIOLATION CODE: string (nullable = true)\n",
      " |-- VIOLATION DESCRIPTION: string (nullable = true)\n",
      " |-- CRITICAL FLAG: string (nullable = true)\n",
      " |-- SCORE: integer (nullable = true)\n",
      " |-- GRADE: string (nullable = true)\n",
      " |-- GRADE DATE: string (nullable = true)\n",
      " |-- RECORD DATE: string (nullable = true)\n",
      " |-- INSPECTION TYPE: string (nullable = true)\n",
      "\n"
     ]
    }
   ],
   "source": [
    "restaurantDF.printSchema"
   ]
  },
  {
   "cell_type": "code",
   "execution_count": 3,
   "metadata": {
    "scrolled": false
   },
   "outputs": [
    {
     "data": {
      "text/html": [
       "<table>\n",
       "<tr><td>40511702</td><td>NOTARO RESTAURANT</td><td>MANHATTAN</td><td>635</td><td>SECOND AVENUE</td><td>10016</td><td>2126863400</td><td>Italian</td><td>06/15/2015</td><td>Violations were cited in the following area(s).</td><td>02B</td><td>Hot food item not held at or above 140Âº F.</td><td>Critical</td><td>30</td><td>NULL</td><td>NULL</td><td>08/28/2017</td><td>Cycle Inspection / Initial Inspection</td></tr>\n",
       "<tr><td>40511702</td><td>NOTARO RESTAURANT</td><td>MANHATTAN</td><td>635</td><td>SECOND AVENUE</td><td>10016</td><td>2126863400</td><td>Italian</td><td>11/25/2014</td><td>Violations were cited in the following area(s).</td><td>20F</td><td>Current letter grade card not posted.</td><td>Not Critical</td><td>NULL</td><td>NULL</td><td>NULL</td><td>08/28/2017</td><td>Administrative Miscellaneous / Initial Inspection</td></tr>\n",
       "</table>"
      ],
      "text/plain": [
       "+----------+-------------------+-----------+-----+---------------+-------+------------+---------+------------+-------------------------------------------------+-----+---------------------------------------------+--------------+------+------+------+------------+---------------------------------------------------+\n",
       "| 40511702 | NOTARO RESTAURANT | MANHATTAN | 635 | SECOND AVENUE | 10016 | 2126863400 | Italian | 06/15/2015 | Violations were cited in the following area(s). | 02B | Hot food item not held at or above 140Âº F. | Critical     | 30   | NULL | NULL | 08/28/2017 | Cycle Inspection / Initial Inspection             |\n",
       "| 40511702 | NOTARO RESTAURANT | MANHATTAN | 635 | SECOND AVENUE | 10016 | 2126863400 | Italian | 11/25/2014 | Violations were cited in the following area(s). | 20F | Current letter grade card not posted.       | Not Critical | NULL | NULL | NULL | 08/28/2017 | Administrative Miscellaneous / Initial Inspection |\n",
       "+----------+-------------------+-----------+-----+---------------+-------+------------+---------+------------+-------------------------------------------------+-----+---------------------------------------------+--------------+------+------+------+------------+---------------------------------------------------+"
      ]
     },
     "execution_count": 3,
     "metadata": {},
     "output_type": "execute_result"
    }
   ],
   "source": [
    "restaurantDF.take(2)"
   ]
  },
  {
   "cell_type": "code",
   "execution_count": 4,
   "metadata": {},
   "outputs": [
    {
     "name": "stdout",
     "output_type": "stream",
     "text": [
      "[Stage 5:================================================>      (178 + 5) / 200]"
     ]
    },
    {
     "data": {
      "text/plain": [
       "boroCount = [BORO: string, CRITICAL FLAG: string ... 1 more field]\n"
      ]
     },
     "metadata": {},
     "output_type": "display_data"
    },
    {
     "data": {
      "text/html": [
       "<table>\n",
       "<tr><td>MANHATTAN</td><td>Critical</td><td>88496</td></tr>\n",
       "<tr><td>BROOKLYN</td><td>Critical</td><td>54030</td></tr>\n",
       "<tr><td>QUEENS</td><td>Critical</td><td>50945</td></tr>\n",
       "<tr><td>BRONX</td><td>Critical</td><td>19027</td></tr>\n",
       "<tr><td>STATEN ISLAND</td><td>Critical</td><td>7584</td></tr>\n",
       "</table>"
      ],
      "text/plain": [
       "+---------------+----------+-------+\n",
       "| MANHATTAN     | Critical | 88496 |\n",
       "| BROOKLYN      | Critical | 54030 |\n",
       "| QUEENS        | Critical | 50945 |\n",
       "| BRONX         | Critical | 19027 |\n",
       "| STATEN ISLAND | Critical | 7584  |\n",
       "+---------------+----------+-------+"
      ]
     },
     "execution_count": 4,
     "metadata": {},
     "output_type": "execute_result"
    }
   ],
   "source": [
    "val boroCount = restaurantDF.groupBy($\"BORO\",$\"CRITICAL FLAG\").count().sort($\"CRITICAL FLAG\",$\"count\".desc)\n",
    "boroCount.take(5)\n",
    "//, $\"boro\","
   ]
  },
  {
   "cell_type": "code",
   "execution_count": 5,
   "metadata": {},
   "outputs": [
    {
     "name": "stdout",
     "output_type": "stream",
     "text": [
      "+-------------------------------------+-------------+-----+                     \n",
      "|DBA                                  |CRITICAL FLAG|count|\n",
      "+-------------------------------------+-------------+-----+\n",
      "|DUNKIN' DONUTS                       |Critical     |2092 |\n",
      "|SUBWAY                               |Critical     |1843 |\n",
      "|MCDONALD'S                           |Critical     |1425 |\n",
      "|STARBUCKS                            |Critical     |756  |\n",
      "|DUNKIN' DONUTS, BASKIN ROBBINS       |Critical     |741  |\n",
      "|CROWN FRIED CHICKEN                  |Critical     |639  |\n",
      "|DOMINO'S                             |Critical     |620  |\n",
      "|KENNEDY FRIED CHICKEN                |Critical     |559  |\n",
      "|BURGER KING                          |Critical     |495  |\n",
      "|CHIPOTLE MEXICAN GRILL               |Critical     |481  |\n",
      "|GOLDEN KRUST CARIBBEAN BAKERY & GRILL|Critical     |471  |\n",
      "|POPEYES LOUISIANA KITCHEN            |Critical     |427  |\n",
      "|PAPA JOHN'S                          |Critical     |366  |\n",
      "|WENDY'S                              |Critical     |261  |\n",
      "|KFC                                  |Critical     |225  |\n",
      "|AU BON PAIN                          |Critical     |217  |\n",
      "|CARVEL ICE CREAM                     |Critical     |200  |\n",
      "|LE PAIN QUOTIDIEN                    |Critical     |195  |\n",
      "|CHECKERS                             |Critical     |187  |\n",
      "|PRET A MANGER                        |Critical     |179  |\n",
      "+-------------------------------------+-------------+-----+\n",
      "only showing top 20 rows\n",
      "\n"
     ]
    },
    {
     "data": {
      "text/plain": [
       "criticalFlagCount = [DBA: string, CRITICAL FLAG: string ... 1 more field]\n"
      ]
     },
     "metadata": {},
     "output_type": "display_data"
    },
    {
     "data": {
      "text/plain": [
       "[DBA: string, CRITICAL FLAG: string ... 1 more field]"
      ]
     },
     "execution_count": 5,
     "metadata": {},
     "output_type": "execute_result"
    }
   ],
   "source": [
    "\n",
    "val criticalFlagCount = restaurantDF.groupBy($\"DBA\",$\"CRITICAL FLAG\").count().sort($\"CRITICAL FLAG\",$\"count\".desc)\n",
    "\n",
    "\n",
    "criticalFlagCount.show(20,false)\n"
   ]
  },
  {
   "cell_type": "code",
   "execution_count": 6,
   "metadata": {},
   "outputs": [
    {
     "name": "stdout",
     "output_type": "stream",
     "text": [
      "[Stage 8:==============>                                            (1 + 3) / 4]"
     ]
    },
    {
     "data": {
      "text/plain": [
       "roaches = contains(VIOLATION DESCRIPTION, roaches)\n"
      ]
     },
     "metadata": {},
     "output_type": "display_data"
    },
    {
     "data": {
      "text/plain": [
       "9016"
      ]
     },
     "execution_count": 6,
     "metadata": {},
     "output_type": "execute_result"
    }
   ],
   "source": [
    "val roaches = $\"VIOLATION DESCRIPTION\".contains(\"roaches\")\n",
    "restaurantDF.select($\"VIOLATION DESCRIPTION\").where(roaches).count()"
   ]
  },
  {
   "cell_type": "code",
   "execution_count": 7,
   "metadata": {},
   "outputs": [
    {
     "name": "stdout",
     "output_type": "stream",
     "text": [
      "[Stage 10:===========================================>              (3 + 1) / 4]"
     ]
    },
    {
     "data": {
      "text/plain": [
       "filthFlies = contains(VIOLATION DESCRIPTION, Filth flies)\n"
      ]
     },
     "metadata": {},
     "output_type": "display_data"
    },
    {
     "data": {
      "text/plain": [
       "19482"
      ]
     },
     "execution_count": 7,
     "metadata": {},
     "output_type": "execute_result"
    }
   ],
   "source": [
    "val filthFlies = $\"VIOLATION DESCRIPTION\".contains(\"Filth flies\")\n",
    "restaurantDF.select($\"VIOLATION DESCRIPTION\").where(filthFlies).count()"
   ]
  },
  {
   "cell_type": "code",
   "execution_count": 8,
   "metadata": {},
   "outputs": [
    {
     "name": "stdout",
     "output_type": "stream",
     "text": [
      "\r",
      "[Stage 12:==============>                                           (1 + 3) / 4]"
     ]
    },
    {
     "data": {
      "text/plain": [
       "mice = contains(VIOLATION DESCRIPTION, mice)\n"
      ]
     },
     "metadata": {},
     "output_type": "display_data"
    },
    {
     "data": {
      "text/plain": [
       "27777"
      ]
     },
     "execution_count": 8,
     "metadata": {},
     "output_type": "execute_result"
    }
   ],
   "source": [
    "val mice = $\"VIOLATION DESCRIPTION\".contains(\"mice\")\n",
    "restaurantDF.select($\"VIOLATION DESCRIPTION\").where(mice).count()"
   ]
  },
  {
   "cell_type": "code",
   "execution_count": 9,
   "metadata": {},
   "outputs": [
    {
     "data": {
      "text/plain": [
       "score5 = (SCORE < 5)\n"
      ]
     },
     "metadata": {},
     "output_type": "display_data"
    },
    {
     "data": {
      "text/plain": [
       "(SCORE < 5)"
      ]
     },
     "execution_count": 9,
     "metadata": {},
     "output_type": "execute_result"
    }
   ],
   "source": [
    "val score5 = $\"SCORE\" < 5"
   ]
  },
  {
   "cell_type": "code",
   "execution_count": 10,
   "metadata": {},
   "outputs": [
    {
     "data": {
      "text/html": [
       "<table>\n",
       "<tr><td>BROOKLYN</td><td>WINDY CITY ALE HOUSE</td><td>Evidence of mice or live mice present in facility's food and/or non-food areas.</td></tr>\n",
       "<tr><td>BROOKLYN</td><td>The STARLIGHT</td><td>Evidence of mice or live mice present in facility's food and/or non-food areas.</td></tr>\n",
       "<tr><td>MANHATTAN</td><td>BARRIO 47</td><td>Evidence of mice or live mice present in facility's food and/or non-food areas.</td></tr>\n",
       "<tr><td>MANHATTAN</td><td>MACONDO</td><td>Evidence of mice or live mice present in facility's food and/or non-food areas.</td></tr>\n",
       "<tr><td>BRONX</td><td>I LOVE NY PIZZA</td><td>Evidence of mice or live mice present in facility's food and/or non-food areas.</td></tr>\n",
       "<tr><td>BROOKLYN</td><td>LE BARRICOU</td><td>Evidence of mice or live mice present in facility's food and/or non-food areas.</td></tr>\n",
       "<tr><td>MANHATTAN</td><td>NEBRASKA STEAKHOUSE</td><td>Evidence of mice or live mice present in facility's food and/or non-food areas.</td></tr>\n",
       "<tr><td>BRONX</td><td>CHINA KING</td><td>Evidence of mice or live mice present in facility's food and/or non-food areas.</td></tr>\n",
       "<tr><td>MANHATTAN</td><td>RAKU IT'S JAPANESE II</td><td>Evidence of mice or live mice present in facility's food and/or non-food areas.</td></tr>\n",
       "<tr><td>MANHATTAN</td><td>YAKITORI TAISHO</td><td>Evidence of mice or live mice present in facility's food and/or non-food areas.</td></tr>\n",
       "</table>"
      ],
      "text/plain": [
       "+-----------+-----------------------+---------------------------------------------------------------------------------+\n",
       "| BROOKLYN  | WINDY CITY ALE HOUSE  | Evidence of mice or live mice present in facility's food and/or non-food areas. |\n",
       "| BROOKLYN  | The STARLIGHT         | Evidence of mice or live mice present in facility's food and/or non-food areas. |\n",
       "| MANHATTAN | BARRIO 47             | Evidence of mice or live mice present in facility's food and/or non-food areas. |\n",
       "| MANHATTAN | MACONDO               | Evidence of mice or live mice present in facility's food and/or non-food areas. |\n",
       "| BRONX     | I LOVE NY PIZZA       | Evidence of mice or live mice present in facility's food and/or non-food areas. |\n",
       "| BROOKLYN  | LE BARRICOU           | Evidence of mice or live mice present in facility's food and/or non-food areas. |\n",
       "| MANHATTAN | NEBRASKA STEAKHOUSE   | Evidence of mice or live mice present in facility's food and/or non-food areas. |\n",
       "| BRONX     | CHINA KING            | Evidence of mice or live mice present in facility's food and/or non-food areas. |\n",
       "| MANHATTAN | RAKU IT'S JAPANESE II | Evidence of mice or live mice present in facility's food and/or non-food areas. |\n",
       "| MANHATTAN | YAKITORI TAISHO       | Evidence of mice or live mice present in facility's food and/or non-food areas. |\n",
       "+-----------+-----------------------+---------------------------------------------------------------------------------+"
      ]
     },
     "execution_count": 10,
     "metadata": {},
     "output_type": "execute_result"
    }
   ],
   "source": [
    "restaurantDF.select($\"BORO\",$\"DBA\",$\"VIOLATION DESCRIPTION\").where(mice.and(score5)).head(10)"
   ]
  },
  {
   "cell_type": "code",
   "execution_count": 11,
   "metadata": {},
   "outputs": [
    {
     "data": {
      "text/html": [
       "<table>\n",
       "<tr><td>MANHATTAN</td><td>PEACE FOOD CAFE</td><td>Filth flies or food/refuse/sewage-associated (FRSA) flies present in facility\u001as food and/or non-food areas. Filth flies include house flies, little house flies, blow flies, bottle flies and flesh flies. Food/refuse/sewage-associated flies include fruit flies, drain flies and Phorid flies.</td></tr>\n",
       "<tr><td>BROOKLYN</td><td>BATH BEACH DINER</td><td>Filth flies or food/refuse/sewage-associated (FRSA) flies present in facility\u001as food and/or non-food areas. Filth flies include house flies, little house flies, blow flies, bottle flies and flesh flies. Food/refuse/sewage-associated flies include fruit flies, drain flies and Phorid flies.</td></tr>\n",
       "<tr><td>QUEENS</td><td>HOT & TASTY</td><td>Filth flies or food/refuse/sewage-associated (FRSA) flies present in facility\u001as food and/or non-food areas. Filth flies include house flies, little house flies, blow flies, bottle flies and flesh flies. Food/refuse/sewage-associated flies include fruit flies, drain flies and Phorid flies.</td></tr>\n",
       "<tr><td>MANHATTAN</td><td>MOLYVOS</td><td>Filth flies or food/refuse/sewage-associated (FRSA) flies present in facility\u001as food and/or non-food areas. Filth flies include house flies, little house flies, blow flies, bottle flies and flesh flies. Food/refuse/sewage-associated flies include fruit flies, drain flies and Phorid flies.</td></tr>\n",
       "<tr><td>BROOKLYN</td><td>TRINI HOME RESTAURANT</td><td>Filth flies or food/refuse/sewage-associated (FRSA) flies present in facility\u001as food and/or non-food areas. Filth flies include house flies, little house flies, blow flies, bottle flies and flesh flies. Food/refuse/sewage-associated flies include fruit flies, drain flies and Phorid flies.</td></tr>\n",
       "<tr><td>BRONX</td><td>KING HOUSE</td><td>Filth flies or food/refuse/sewage-associated (FRSA) flies present in facility\u001as food and/or non-food areas. Filth flies include house flies, little house flies, blow flies, bottle flies and flesh flies. Food/refuse/sewage-associated flies include fruit flies, drain flies and Phorid flies.</td></tr>\n",
       "<tr><td>MANHATTAN</td><td>BUBBY'S HIGHLINE</td><td>Filth flies or food/refuse/sewage-associated (FRSA) flies present in facility\u001as food and/or non-food areas. Filth flies include house flies, little house flies, blow flies, bottle flies and flesh flies. Food/refuse/sewage-associated flies include fruit flies, drain flies and Phorid flies.</td></tr>\n",
       "<tr><td>MANHATTAN</td><td>YAKITORI TAISHO</td><td>Filth flies or food/refuse/sewage-associated (FRSA) flies present in facility\u001as food and/or non-food areas. Filth flies include house flies, little house flies, blow flies, bottle flies and flesh flies. Food/refuse/sewage-associated flies include fruit flies, drain flies and Phorid flies.</td></tr>\n",
       "<tr><td>BROOKLYN</td><td>TABARE</td><td>Filth flies or food/refuse/sewage-associated (FRSA) flies present in facility\u001as food and/or non-food areas. Filth flies include house flies, little house flies, blow flies, bottle flies and flesh flies. Food/refuse/sewage-associated flies include fruit flies, drain flies and Phorid flies.</td></tr>\n",
       "<tr><td>BROOKLYN</td><td>PRECIOUS METAL</td><td>Filth flies or food/refuse/sewage-associated (FRSA) flies present in facility\u001as food and/or non-food areas. Filth flies include house flies, little house flies, blow flies, bottle flies and flesh flies. Food/refuse/sewage-associated flies include fruit flies, drain flies and Phorid flies.</td></tr>\n",
       "</table>"
      ],
      "text/plain": [
       "+-----------+-----------------------+---------------------------------------------------------------------------------------------------------------------------------------------------------------------------------------------------------------------------------------------------------------------------------------------------+\n",
       "| MANHATTAN | PEACE FOOD CAFE       | Filth flies or food/refuse/sewage-associated (FRSA) flies present in facility\u001as food and/or non-food areas. Filth flies include house flies, little house flies, blow flies, bottle flies and flesh flies. Food/refuse/sewage-associated flies include fruit flies, drain flies and Phorid flies. |\n",
       "| BROOKLYN  | BATH BEACH DINER      | Filth flies or food/refuse/sewage-associated (FRSA) flies present in facility\u001as food and/or non-food areas. Filth flies include house flies, little house flies, blow flies, bottle flies and flesh flies. Food/refuse/sewage-associated flies include fruit flies, drain flies and Phorid flies. |\n",
       "| QUEENS    | HOT & TASTY           | Filth flies or food/refuse/sewage-associated (FRSA) flies present in facility\u001as food and/or non-food areas. Filth flies include house flies, little house flies, blow flies, bottle flies and flesh flies. Food/refuse/sewage-associated flies include fruit flies, drain flies and Phorid flies. |\n",
       "| MANHATTAN | MOLYVOS               | Filth flies or food/refuse/sewage-associated (FRSA) flies present in facility\u001as food and/or non-food areas. Filth flies include house flies, little house flies, blow flies, bottle flies and flesh flies. Food/refuse/sewage-associated flies include fruit flies, drain flies and Phorid flies. |\n",
       "| BROOKLYN  | TRINI HOME RESTAURANT | Filth flies or food/refuse/sewage-associated (FRSA) flies present in facility\u001as food and/or non-food areas. Filth flies include house flies, little house flies, blow flies, bottle flies and flesh flies. Food/refuse/sewage-associated flies include fruit flies, drain flies and Phorid flies. |\n",
       "| BRONX     | KING HOUSE            | Filth flies or food/refuse/sewage-associated (FRSA) flies present in facility\u001as food and/or non-food areas. Filth flies include house flies, little house flies, blow flies, bottle flies and flesh flies. Food/refuse/sewage-associated flies include fruit flies, drain flies and Phorid flies. |\n",
       "| MANHATTAN | BUBBY'S HIGHLINE      | Filth flies or food/refuse/sewage-associated (FRSA) flies present in facility\u001as food and/or non-food areas. Filth flies include house flies, little house flies, blow flies, bottle flies and flesh flies. Food/refuse/sewage-associated flies include fruit flies, drain flies and Phorid flies. |\n",
       "| MANHATTAN | YAKITORI TAISHO       | Filth flies or food/refuse/sewage-associated (FRSA) flies present in facility\u001as food and/or non-food areas. Filth flies include house flies, little house flies, blow flies, bottle flies and flesh flies. Food/refuse/sewage-associated flies include fruit flies, drain flies and Phorid flies. |\n",
       "| BROOKLYN  | TABARE                | Filth flies or food/refuse/sewage-associated (FRSA) flies present in facility\u001as food and/or non-food areas. Filth flies include house flies, little house flies, blow flies, bottle flies and flesh flies. Food/refuse/sewage-associated flies include fruit flies, drain flies and Phorid flies. |\n",
       "| BROOKLYN  | PRECIOUS METAL        | Filth flies or food/refuse/sewage-associated (FRSA) flies present in facility\u001as food and/or non-food areas. Filth flies include house flies, little house flies, blow flies, bottle flies and flesh flies. Food/refuse/sewage-associated flies include fruit flies, drain flies and Phorid flies. |\n",
       "+-----------+-----------------------+---------------------------------------------------------------------------------------------------------------------------------------------------------------------------------------------------------------------------------------------------------------------------------------------------+"
      ]
     },
     "execution_count": 11,
     "metadata": {},
     "output_type": "execute_result"
    }
   ],
   "source": [
    "restaurantDF.select($\"BORO\",$\"DBA\",$\"VIOLATION DESCRIPTION\").where(filthFlies.and(score5)).head(10)"
   ]
  },
  {
   "cell_type": "code",
   "execution_count": 12,
   "metadata": {},
   "outputs": [
    {
     "name": "stdout",
     "output_type": "stream",
     "text": [
      "\r",
      "[Stage 20:===================>                                      (1 + 2) / 3]"
     ]
    },
    {
     "data": {
      "text/html": [
       "<table>\n",
       "<tr><td>BRONX</td><td>LAS BANDERAS SPORT BAR</td><td>Live roaches present in facility's food and/or non-food areas.</td></tr>\n",
       "<tr><td>MANHATTAN</td><td>MACONDO</td><td>Live roaches present in facility's food and/or non-food areas.</td></tr>\n",
       "<tr><td>BROOKLYN</td><td>GHOROA SWEETS & RESTAURANT</td><td>Live roaches present in facility's food and/or non-food areas.</td></tr>\n",
       "<tr><td>BROOKLYN</td><td>SUPER 403 CHINESE RESTAURANT</td><td>Live roaches present in facility's food and/or non-food areas.</td></tr>\n",
       "<tr><td>MANHATTAN</td><td>PEACE FOOD CAFE</td><td>Live roaches present in facility's food and/or non-food areas.</td></tr>\n",
       "<tr><td>QUEENS</td><td>BRAVO'S RESTAURANT &  CAFE</td><td>Live roaches present in facility's food and/or non-food areas.</td></tr>\n",
       "</table>"
      ],
      "text/plain": [
       "+-----------+------------------------------+----------------------------------------------------------------+\n",
       "| BRONX     | LAS BANDERAS SPORT BAR       | Live roaches present in facility's food and/or non-food areas. |\n",
       "| MANHATTAN | MACONDO                      | Live roaches present in facility's food and/or non-food areas. |\n",
       "| BROOKLYN  | GHOROA SWEETS & RESTAURANT   | Live roaches present in facility's food and/or non-food areas. |\n",
       "| BROOKLYN  | SUPER 403 CHINESE RESTAURANT | Live roaches present in facility's food and/or non-food areas. |\n",
       "| MANHATTAN | PEACE FOOD CAFE              | Live roaches present in facility's food and/or non-food areas. |\n",
       "| QUEENS    | BRAVO'S RESTAURANT &  CAFE   | Live roaches present in facility's food and/or non-food areas. |\n",
       "+-----------+------------------------------+----------------------------------------------------------------+"
      ]
     },
     "execution_count": 12,
     "metadata": {},
     "output_type": "execute_result"
    }
   ],
   "source": [
    "restaurantDF.select($\"BORO\",$\"DBA\",$\"VIOLATION DESCRIPTION\").where(roaches.and(score5)).head(10)\n"
   ]
  },
  {
   "cell_type": "code",
   "execution_count": 15,
   "metadata": {},
   "outputs": [
    {
     "name": "stdout",
     "output_type": "stream",
     "text": [
      "\r",
      "[Stage 24:>                                                         (0 + 4) / 4]"
     ]
    },
    {
     "data": {
      "text/plain": [
       "donuts = contains(DBA, DUNKIN' DONUTS)\n"
      ]
     },
     "metadata": {},
     "output_type": "display_data"
    },
    {
     "data": {
      "text/plain": [
       "44"
      ]
     },
     "execution_count": 15,
     "metadata": {},
     "output_type": "execute_result"
    }
   ],
   "source": [
    "val donuts = $\"DBA\".contains(\"DUNKIN' DONUTS\")\n",
    "restaurantDF.select($\"DBA\",$\"VIOLATION DESCRIPTION\").where(roaches.and(donuts)).count()"
   ]
  },
  {
   "cell_type": "code",
   "execution_count": 16,
   "metadata": {},
   "outputs": [
    {
     "name": "stdout",
     "output_type": "stream",
     "text": [
      "\r",
      "[Stage 26:==============>                                           (1 + 3) / 4]"
     ]
    },
    {
     "data": {
      "text/plain": [
       "367"
      ]
     },
     "execution_count": 16,
     "metadata": {},
     "output_type": "execute_result"
    }
   ],
   "source": [
    "restaurantDF.select($\"DBA\",$\"VIOLATION DESCRIPTION\").where(filthFlies.and(donuts)).count()"
   ]
  },
  {
   "cell_type": "code",
   "execution_count": 17,
   "metadata": {},
   "outputs": [
    {
     "name": "stdout",
     "output_type": "stream",
     "text": [
      "[Stage 28:=============================>                            (2 + 2) / 4]"
     ]
    },
    {
     "data": {
      "text/plain": [
       "245"
      ]
     },
     "execution_count": 17,
     "metadata": {},
     "output_type": "execute_result"
    }
   ],
   "source": [
    "restaurantDF.select($\"DBA\",$\"VIOLATION DESCRIPTION\").where(mice.and(donuts)).count()"
   ]
  },
  {
   "cell_type": "code",
   "execution_count": 19,
   "metadata": {},
   "outputs": [
    {
     "name": "stdout",
     "output_type": "stream",
     "text": [
      "[Stage 36:=============================>                            (2 + 2) / 4]"
     ]
    },
    {
     "data": {
      "text/plain": [
       "subway = contains(DBA, SUBWAY)\n"
      ]
     },
     "metadata": {},
     "output_type": "display_data"
    },
    {
     "data": {
      "text/plain": [
       "29"
      ]
     },
     "execution_count": 19,
     "metadata": {},
     "output_type": "execute_result"
    }
   ],
   "source": [
    "val subway = $\"DBA\".contains(\"SUBWAY\")\n",
    "restaurantDF.select($\"DBA\",$\"VIOLATION DESCRIPTION\").where(roaches.and(subway)).count()\n"
   ]
  },
  {
   "cell_type": "code",
   "execution_count": 20,
   "metadata": {},
   "outputs": [
    {
     "name": "stdout",
     "output_type": "stream",
     "text": [
      "\r",
      "[Stage 38:>                                                         (0 + 4) / 4]"
     ]
    },
    {
     "data": {
      "text/plain": [
       "142"
      ]
     },
     "execution_count": 20,
     "metadata": {},
     "output_type": "execute_result"
    }
   ],
   "source": [
    "restaurantDF.select($\"DBA\",$\"VIOLATION DESCRIPTION\").where(filthFlies.and(subway)).count()\n"
   ]
  },
  {
   "cell_type": "code",
   "execution_count": 21,
   "metadata": {},
   "outputs": [
    {
     "name": "stdout",
     "output_type": "stream",
     "text": [
      "\r",
      "[Stage 40:==============>                                           (1 + 3) / 4]"
     ]
    },
    {
     "data": {
      "text/plain": [
       "267"
      ]
     },
     "execution_count": 21,
     "metadata": {},
     "output_type": "execute_result"
    }
   ],
   "source": [
    "restaurantDF.select($\"DBA\",$\"VIOLATION DESCRIPTION\").where(mice.and(subway)).count()"
   ]
  },
  {
   "cell_type": "code",
   "execution_count": 22,
   "metadata": {},
   "outputs": [
    {
     "name": "stdout",
     "output_type": "stream",
     "text": [
      "\r",
      "[Stage 42:>                                                         (0 + 4) / 4]"
     ]
    },
    {
     "data": {
      "text/plain": [
       "mcdonalds = contains(DBA, MCDONALD'S)\n"
      ]
     },
     "metadata": {},
     "output_type": "display_data"
    },
    {
     "data": {
      "text/plain": [
       "38"
      ]
     },
     "execution_count": 22,
     "metadata": {},
     "output_type": "execute_result"
    }
   ],
   "source": [
    "val mcdonalds = $\"DBA\".contains(\"MCDONALD'S\")\n",
    "restaurantDF.select($\"DBA\",$\"VIOLATION DESCRIPTION\").where(roaches.and(mcdonalds)).count()\n",
    "\n",
    "\n"
   ]
  },
  {
   "cell_type": "code",
   "execution_count": 23,
   "metadata": {},
   "outputs": [
    {
     "name": "stdout",
     "output_type": "stream",
     "text": [
      "\r",
      "[Stage 44:>                                                         (0 + 4) / 4]"
     ]
    },
    {
     "data": {
      "text/plain": [
       "268"
      ]
     },
     "execution_count": 23,
     "metadata": {},
     "output_type": "execute_result"
    }
   ],
   "source": [
    "restaurantDF.select($\"DBA\",$\"VIOLATION DESCRIPTION\").where(filthFlies.and(mcdonalds)).count()\n"
   ]
  },
  {
   "cell_type": "code",
   "execution_count": 24,
   "metadata": {},
   "outputs": [
    {
     "name": "stdout",
     "output_type": "stream",
     "text": [
      "\r",
      "[Stage 46:>                                                         (0 + 4) / 4]"
     ]
    },
    {
     "data": {
      "text/plain": [
       "82"
      ]
     },
     "execution_count": 24,
     "metadata": {},
     "output_type": "execute_result"
    }
   ],
   "source": [
    "restaurantDF.select($\"DBA\",$\"VIOLATION DESCRIPTION\").where(mice.and(mcdonalds)).count()"
   ]
  },
  {
   "cell_type": "code",
   "execution_count": null,
   "metadata": {},
   "outputs": [],
   "source": []
  }
 ],
 "metadata": {
  "anaconda-cloud": {},
  "kernelspec": {
   "display_name": "bespoke_spark - Scala",
   "language": "scala",
   "name": "bespoke_spark_scala"
  },
  "language_info": {
   "codemirror_mode": "text/x-scala",
   "file_extension": ".scala",
   "mimetype": "text/x-scala",
   "name": "scala",
   "pygments_lexer": "scala",
   "version": "2.11.8"
  }
 },
 "nbformat": 4,
 "nbformat_minor": 1
}
