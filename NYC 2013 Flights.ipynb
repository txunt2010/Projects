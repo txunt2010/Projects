{
 "cells": [
  {
   "cell_type": "code",
   "execution_count": 1,
   "metadata": {
    "scrolled": true
   },
   "outputs": [
    {
     "data": {
      "text/plain": [
       "flightspath = /home/jose/spark-2.1.0/flights.csv\n",
       "planespath = /home/jose/spark-2.1.0/airports.csv\n",
       "airlinespath = /home/jose/spark-2.1.0/airlines.csv\n"
      ]
     },
     "metadata": {},
     "output_type": "display_data"
    },
    {
     "data": {
      "text/plain": [
       "/home/jose/spark-2.1.0/airlines.csv"
      ]
     },
     "execution_count": 1,
     "metadata": {},
     "output_type": "execute_result"
    }
   ],
   "source": [
    "val flightspath = \"/home/jose/spark-2.1.0/flights.csv\"\n",
    "val planespath = \"/home/jose/spark-2.1.0/airports.csv\"\n",
    "val airlinespath = \"/home/jose/spark-2.1.0/airlines.csv\""
   ]
  },
  {
   "cell_type": "code",
   "execution_count": 2,
   "metadata": {},
   "outputs": [
    {
     "data": {
      "text/plain": [
       "airlanesdf = [carrier: string, name: string]\n"
      ]
     },
     "metadata": {},
     "output_type": "display_data"
    },
    {
     "data": {
      "text/plain": [
       "[carrier: string, name: string]"
      ]
     },
     "execution_count": 2,
     "metadata": {},
     "output_type": "execute_result"
    }
   ],
   "source": [
    "val airlanesdf = spark.read.option(\"header\", true).csv(airlinespath)\n"
   ]
  },
  {
   "cell_type": "code",
   "execution_count": 11,
   "metadata": {},
   "outputs": [
    {
     "name": "stdout",
     "output_type": "stream",
     "text": [
      "+-------+--------------------+\n",
      "|carrier|                name|\n",
      "+-------+--------------------+\n",
      "|     9E|   Endeavor Air Inc.|\n",
      "|     AA|American Airlines...|\n",
      "+-------+--------------------+\n",
      "only showing top 2 rows\n",
      "\n"
     ]
    },
    {
     "data": {
      "text/plain": [
       "16"
      ]
     },
     "execution_count": 11,
     "metadata": {},
     "output_type": "execute_result"
    }
   ],
   "source": [
    "airlanesdf.show(2)\n",
    "airlanesdf.count"
   ]
  },
  {
   "cell_type": "code",
   "execution_count": 7,
   "metadata": {},
   "outputs": [
    {
     "data": {
      "text/plain": [
       "planesdf = [faa: string, name: string ... 6 more fields]\n"
      ]
     },
     "metadata": {},
     "output_type": "display_data"
    },
    {
     "data": {
      "text/plain": [
       "[faa: string, name: string ... 6 more fields]"
      ]
     },
     "execution_count": 7,
     "metadata": {},
     "output_type": "execute_result"
    }
   ],
   "source": [
    "val planesdf = spark.read.option(\"header\", true).csv(planespath)"
   ]
  },
  {
   "cell_type": "code",
   "execution_count": 13,
   "metadata": {},
   "outputs": [
    {
     "name": "stdout",
     "output_type": "stream",
     "text": [
      "+---+--------------------+----------+-----------+----+----+---+----------------+\n",
      "|faa|                name|       lat|        lon| alt|  tz|dst|           tzone|\n",
      "+---+--------------------+----------+-----------+----+----+---+----------------+\n",
      "|04G|   Lansdowne Airport|41.1304722|-80.6195833|1044|-5.0|  A|America/New_York|\n",
      "|06A|Moton Field Munic...|32.4605722|-85.6800278| 264|-6.0|  A| America/Chicago|\n",
      "+---+--------------------+----------+-----------+----+----+---+----------------+\n",
      "only showing top 2 rows\n",
      "\n"
     ]
    },
    {
     "data": {
      "text/plain": [
       "1458"
      ]
     },
     "execution_count": 13,
     "metadata": {},
     "output_type": "execute_result"
    }
   ],
   "source": [
    "planesdf.show(2)\n",
    "planesdf.count"
   ]
  },
  {
   "cell_type": "code",
   "execution_count": 12,
   "metadata": {},
   "outputs": [
    {
     "data": {
      "text/plain": [
       "flightsdf = [_c0: string, year: string ... 15 more fields]\n"
      ]
     },
     "metadata": {},
     "output_type": "display_data"
    },
    {
     "data": {
      "text/plain": [
       "[_c0: string, year: string ... 15 more fields]"
      ]
     },
     "execution_count": 12,
     "metadata": {},
     "output_type": "execute_result"
    }
   ],
   "source": [
    "val flightsdf = spark.read.option(\"header\", true).csv(flightspath)"
   ]
  },
  {
   "cell_type": "code",
   "execution_count": 23,
   "metadata": {},
   "outputs": [
    {
     "name": "stdout",
     "output_type": "stream",
     "text": [
      "+---+----+-----+---+--------+---------+--------+---------+-------+-------+------+------+----+--------+--------+----+------+\n",
      "|_c0|year|month|day|dep_time|dep_delay|arr_time|arr_delay|carrier|tailnum|flight|origin|dest|air_time|distance|hour|minute|\n",
      "+---+----+-----+---+--------+---------+--------+---------+-------+-------+------+------+----+--------+--------+----+------+\n",
      "|1  |2013|1    |1  |517     |2        |830     |11       |UA     |N14228 |1545  |EWR   |IAH |227     |1400    |5   |17    |\n",
      "|2  |2013|1    |1  |533     |4        |850     |20       |UA     |N24211 |1714  |LGA   |IAH |227     |1416    |5   |33    |\n",
      "+---+----+-----+---+--------+---------+--------+---------+-------+-------+------+------+----+--------+--------+----+------+\n",
      "only showing top 2 rows\n",
      "\n"
     ]
    },
    {
     "data": {
      "text/plain": [
       "336776"
      ]
     },
     "execution_count": 23,
     "metadata": {},
     "output_type": "execute_result"
    }
   ],
   "source": [
    "flightsdf.show(2, false)\n",
    "flightsdf.count\n"
   ]
  },
  {
   "cell_type": "code",
   "execution_count": 34,
   "metadata": {},
   "outputs": [
    {
     "name": "stdout",
     "output_type": "stream",
     "text": [
      "+------+----+-----+---+--------+---------+--------+---------+-------+-------+------+------+----+--------+--------+----+------+\n",
      "|_c0   |year|month|day|dep_time|dep_delay|arr_time|arr_delay|carrier|tailnum|flight|origin|dest|air_time|distance|hour|minute|\n",
      "+------+----+-----+---+--------+---------+--------+---------+-------+-------+------+------+----+--------+--------+----+------+\n",
      "|7073  |2013|1    |9  |641     |1301     |1242    |1272     |HA     |N384HA |51    |JFK   |HNL |640     |4983    |6   |41    |\n",
      "|8240  |2013|1    |10 |1121    |1126     |1239    |1109     |MQ     |N517MQ |3695  |EWR   |ORD |111     |719     |11  |21    |\n",
      "|235779|2013|6    |15 |1432    |1137     |1607    |1127     |MQ     |N504MQ |3535  |JFK   |CMH |74      |483     |14  |32    |\n",
      "|327044|2013|9    |20 |1139    |1014     |1457    |1007     |AA     |N338AA |177   |JFK   |SFO |354     |2586    |11  |39    |\n",
      "+------+----+-----+---+--------+---------+--------+---------+-------+-------+------+------+----+--------+--------+----+------+\n",
      "\n"
     ]
    }
   ],
   "source": [
    "flightsdf.filter($\"dep_delay\" > 800 && $\"arr_delay\" > 1000).show(false)\n"
   ]
  },
  {
   "cell_type": "code",
   "execution_count": 42,
   "metadata": {
    "scrolled": true
   },
   "outputs": [
    {
     "name": "stdout",
     "output_type": "stream",
     "text": [
      "+----+----+-----+---+--------+---------+--------+---------+-------+-------+------+------+----+--------+--------+----+------+\n",
      "|_c0 |year|month|day|dep_time|dep_delay|arr_time|arr_delay|carrier|tailnum|flight|origin|dest|air_time|distance|hour|minute|\n",
      "+----+----+-----+---+--------+---------+--------+---------+-------+-------+------+------+----+--------+--------+----+------+\n",
      "|7073|2013|1    |9  |641     |1301     |1242    |1272     |HA     |N384HA |51    |JFK   |HNL |640     |4983    |6   |41    |\n",
      "+----+----+-----+---+--------+---------+--------+---------+-------+-------+------+------+----+--------+--------+----+------+\n",
      "\n"
     ]
    }
   ],
   "source": [
    "flightsdf.filter($\"air_time\">=500 && $\"dep_delay\" >= 1000).show(false)"
   ]
  },
  {
   "cell_type": "code",
   "execution_count": 54,
   "metadata": {},
   "outputs": [
    {
     "name": "stdout",
     "output_type": "stream",
     "text": [
      "+------+------+\n",
      "|origin| count|\n",
      "+------+------+\n",
      "|   LGA|104662|\n",
      "|   EWR|120835|\n",
      "|   JFK|111279|\n",
      "+------+------+\n",
      "\n",
      "+----+-----+\n",
      "|dest|count|\n",
      "+----+-----+\n",
      "| PSE|  365|\n",
      "| MSY| 3799|\n",
      "| SNA|  825|\n",
      "| BUR|  371|\n",
      "| GRR|  765|\n",
      "| MYR|   59|\n",
      "| GSO| 1606|\n",
      "| PVD|  376|\n",
      "| OAK|  312|\n",
      "| MSN|  572|\n",
      "| DCA| 9705|\n",
      "| LEX|    1|\n",
      "| ORF| 1536|\n",
      "| CRW|  138|\n",
      "| SAV|  804|\n",
      "| CMH| 3524|\n",
      "| CAK|  864|\n",
      "| CHO|   52|\n",
      "| IAH| 7198|\n",
      "| HNL|  707|\n",
      "+----+-----+\n",
      "only showing top 20 rows\n",
      "\n"
     ]
    },
    {
     "data": {
      "text/plain": [
       "lastException: Throwable = null\n"
      ]
     },
     "metadata": {},
     "output_type": "display_data"
    }
   ],
   "source": [
    "flightsdf.groupBy(\"origin\").count().show()\n",
    "flightsdf.groupBy(\"dest\").count().show()\n"
   ]
  },
  {
   "cell_type": "code",
   "execution_count": 58,
   "metadata": {},
   "outputs": [
    {
     "data": {
      "text/plain": [
       "delayedFlights = 128432.0\n",
       "percentDelayed = 0.3813573413782455\n"
      ]
     },
     "metadata": {},
     "output_type": "display_data"
    },
    {
     "data": {
      "text/plain": [
       "0.3813573413782455"
      ]
     },
     "execution_count": 58,
     "metadata": {},
     "output_type": "execute_result"
    }
   ],
   "source": [
    "val delayedFlights = flightsdf.filter($\"dep_delay\" > 0).count.toDouble\n",
    "//val totalDistance = flightsParsed.map(_.distance).reduce((x,y)=> x+y)\n",
    "val percentDelayed = delayedFlights / flightsdf.count.toDouble"
   ]
  },
  {
   "cell_type": "code",
   "execution_count": null,
   "metadata": {
    "collapsed": true
   },
   "outputs": [],
   "source": []
  },
  {
   "cell_type": "code",
   "execution_count": null,
   "metadata": {},
   "outputs": [],
   "source": []
  },
  {
   "cell_type": "code",
   "execution_count": null,
   "metadata": {
    "collapsed": true
   },
   "outputs": [],
   "source": []
  }
 ],
 "metadata": {
  "celltoolbar": "Raw Cell Format",
  "kernelspec": {
   "display_name": "bespoke_spark - Scala",
   "language": "scala",
   "name": "bespoke_spark_scala"
  },
  "language_info": {
   "codemirror_mode": "text/x-scala",
   "file_extension": ".scala",
   "mimetype": "text/x-scala",
   "name": "scala",
   "pygments_lexer": "scala",
   "version": "2.11.8"
  }
 },
 "nbformat": 4,
 "nbformat_minor": 2
}
